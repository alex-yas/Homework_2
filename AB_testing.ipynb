{
 "cells":[
  {
   "cell_type":"code",
   "source":[
    "import numpy as np\n",
    "import pandas as pd\n",
    "import scipy.stats as stats\n",
    "import statsmodels.stats.api as sms\n",
    "import matplotlib.pyplot as plt\n",
    "import seaborn as sns\n",
    "from math import ceil\n",
    "from statsmodels.stats.proportion import proportions_ztest, proportion_confint"
   ],
   "execution_count":17,
   "outputs":[
    
   ],
   "metadata":{
    "datalore":{
     "type":"CODE",
     "hide_input_from_viewers":false,
     "hide_output_from_viewers":false
    }
   }
  },
  {
   "cell_type":"code",
   "source":[
    "effect_size = sms.proportion_effectsize(0.13, 0.15)\n",
    "\n",
    "required_n = sms.NormalIndPower().solve_power(effect_size, power=0.8, alpha=0.05, ratio=1)\n",
    "\n",
    "required_n = ceil(required_n)\n",
    "print(\"Для каждой группы нам необходимо не меньше \",required_n, \" наблюдений\")"
   ],
   "execution_count":3,
   "outputs":[
    {
     "name":"stdout",
     "text":[
      "Для каждой группы нам необходимо не меньше  4720  наблюдений\n"
     ],
     "output_type":"stream"
    }
   ],
   "metadata":{
    "datalore":{
     "type":"CODE",
     "hide_input_from_viewers":false,
     "hide_output_from_viewers":false
    }
   }
  },
  {
   "cell_type":"code",
   "source":[
    "df = pd.read_csv('ab_test_ensembles.csv')\n",
    "df.head(10)"
   ],
   "execution_count":4,
   "outputs":[
    {
     "data":{
      "text\/html":[
       "<div>\n",
       "<style scoped>\n",
       "    .dataframe tbody tr th:only-of-type {\n",
       "        vertical-align: middle;\n",
       "    }\n",
       "\n",
       "    .dataframe tbody tr th {\n",
       "        vertical-align: top;\n",
       "    }\n",
       "\n",
       "    .dataframe thead th {\n",
       "        text-align: right;\n",
       "    }\n",
       "<\/style>\n",
       "<table border=\"1\" class=\"dataframe\">\n",
       "  <thead>\n",
       "    <tr style=\"text-align: right;\">\n",
       "      <th><\/th>\n",
       "      <th>user_id<\/th>\n",
       "      <th>timestamp<\/th>\n",
       "      <th>group<\/th>\n",
       "      <th>variants<\/th>\n",
       "      <th>converted<\/th>\n",
       "      <th>location<\/th>\n",
       "      <th>age_group<\/th>\n",
       "      <th>user_type<\/th>\n",
       "    <\/tr>\n",
       "  <\/thead>\n",
       "  <tbody>\n",
       "    <tr>\n",
       "      <th>0<\/th>\n",
       "      <td>9109b0dc-d393-497f-8d63-ba9a25dd16b4<\/td>\n",
       "      <td>2022-05-21 22:11:48.556739<\/td>\n",
       "      <td>control<\/td>\n",
       "      <td>standard<\/td>\n",
       "      <td>0<\/td>\n",
       "      <td>United Kingdom<\/td>\n",
       "      <td>18-25<\/td>\n",
       "      <td>registered_user<\/td>\n",
       "    <\/tr>\n",
       "    <tr>\n",
       "      <th>1<\/th>\n",
       "      <td>2430c3d2-f75b-4b31-8271-51b6a76c2652<\/td>\n",
       "      <td>2022-05-12 08:01:45.159739<\/td>\n",
       "      <td>control<\/td>\n",
       "      <td>standard<\/td>\n",
       "      <td>0<\/td>\n",
       "      <td>United Kingdom<\/td>\n",
       "      <td>42-49<\/td>\n",
       "      <td>registered_user<\/td>\n",
       "    <\/tr>\n",
       "    <tr>\n",
       "      <th>2<\/th>\n",
       "      <td>44788c4e-8dd2-4fad-b986-75e76f4adb64<\/td>\n",
       "      <td>2022-05-11 16:55:06.154213<\/td>\n",
       "      <td>treatment<\/td>\n",
       "      <td>svm_ensemble_v_1_22<\/td>\n",
       "      <td>0<\/td>\n",
       "      <td>United Kingdom<\/td>\n",
       "      <td>26-33<\/td>\n",
       "      <td>new_user<\/td>\n",
       "    <\/tr>\n",
       "    <tr>\n",
       "      <th>3<\/th>\n",
       "      <td>4699a417-506d-41b8-a354-6af6ad576963<\/td>\n",
       "      <td>2022-05-08 18:28:03.143765<\/td>\n",
       "      <td>treatment<\/td>\n",
       "      <td>svm_ensemble_v_1_22<\/td>\n",
       "      <td>0<\/td>\n",
       "      <td>United Kingdom<\/td>\n",
       "      <td>42-49<\/td>\n",
       "      <td>registered_user<\/td>\n",
       "    <\/tr>\n",
       "    <tr>\n",
       "      <th>4<\/th>\n",
       "      <td>304b0d28-bcdf-401a-9dff-66230d3ba0bc<\/td>\n",
       "      <td>2022-05-21 01:52:26.210827<\/td>\n",
       "      <td>control<\/td>\n",
       "      <td>standard<\/td>\n",
       "      <td>1<\/td>\n",
       "      <td>United Kingdom<\/td>\n",
       "      <td>42-49<\/td>\n",
       "      <td>registered_user<\/td>\n",
       "    <\/tr>\n",
       "    <tr>\n",
       "      <th>5<\/th>\n",
       "      <td>426f77eb-8739-43b6-999c-aecd14d9f346<\/td>\n",
       "      <td>2022-05-10 15:20:49.083499<\/td>\n",
       "      <td>control<\/td>\n",
       "      <td>standard<\/td>\n",
       "      <td>0<\/td>\n",
       "      <td>United Kingdom<\/td>\n",
       "      <td>42-49<\/td>\n",
       "      <td>registered_user<\/td>\n",
       "    <\/tr>\n",
       "    <tr>\n",
       "      <th>6<\/th>\n",
       "      <td>aa9d93c5-a18f-444a-a522-7e7145835362<\/td>\n",
       "      <td>2022-05-19 03:26:46.940749<\/td>\n",
       "      <td>treatment<\/td>\n",
       "      <td>svm_ensemble_v_1_22<\/td>\n",
       "      <td>1<\/td>\n",
       "      <td>United Kingdom<\/td>\n",
       "      <td>26-33<\/td>\n",
       "      <td>registered_user<\/td>\n",
       "    <\/tr>\n",
       "    <tr>\n",
       "      <th>7<\/th>\n",
       "      <td>de214e30-9b8d-44cf-87b1-16917f3e1c89<\/td>\n",
       "      <td>2022-05-17 01:48:29.539573<\/td>\n",
       "      <td>control<\/td>\n",
       "      <td>standard<\/td>\n",
       "      <td>0<\/td>\n",
       "      <td>United Kingdom<\/td>\n",
       "      <td>18-25<\/td>\n",
       "      <td>registered_user<\/td>\n",
       "    <\/tr>\n",
       "    <tr>\n",
       "      <th>8<\/th>\n",
       "      <td>070f398e-e6bf-43e7-88bb-37eff2cb9212<\/td>\n",
       "      <td>2022-05-04 17:58:08.979471<\/td>\n",
       "      <td>treatment<\/td>\n",
       "      <td>svm_ensemble_v_1_22<\/td>\n",
       "      <td>1<\/td>\n",
       "      <td>United Kingdom<\/td>\n",
       "      <td>18-25<\/td>\n",
       "      <td>new_user<\/td>\n",
       "    <\/tr>\n",
       "    <tr>\n",
       "      <th>9<\/th>\n",
       "      <td>9cff0b7e-d42b-4508-9fbe-a4e74f7f29c5<\/td>\n",
       "      <td>2022-05-15 18:11:06.610965<\/td>\n",
       "      <td>treatment<\/td>\n",
       "      <td>svm_ensemble_v_1_22<\/td>\n",
       "      <td>1<\/td>\n",
       "      <td>United Kingdom<\/td>\n",
       "      <td>26-33<\/td>\n",
       "      <td>new_user<\/td>\n",
       "    <\/tr>\n",
       "  <\/tbody>\n",
       "<\/table>\n",
       "<\/div>"
      ]
     },
     "metadata":{
      
     },
     "output_type":"display_data"
    }
   ],
   "metadata":{
    "datalore":{
     "type":"CODE",
     "hide_input_from_viewers":false,
     "hide_output_from_viewers":false
    }
   }
  },
  {
   "cell_type":"code",
   "source":[
    "df.info()"
   ],
   "execution_count":5,
   "outputs":[
    {
     "name":"stdout",
     "text":[
      "<class 'pandas.core.frame.DataFrame'>\n",
      "RangeIndex: 294478 entries, 0 to 294477\n",
      "Data columns (total 8 columns):\n",
      " #   Column     Non-Null Count   Dtype \n",
      "---  ------     --------------   ----- \n",
      " 0   user_id    294478 non-null  object\n",
      " 1   timestamp  294478 non-null  object\n",
      " 2   group      294478 non-null  object\n",
      " 3   variants   294478 non-null  object\n",
      " 4   converted  294478 non-null  int64 \n",
      " 5   location   294478 non-null  object\n",
      " 6   age_group  294478 non-null  object\n",
      " 7   user_type  294478 non-null  object\n",
      "dtypes: int64(1), object(7)\n",
      "memory usage: 18.0+ MB\n"
     ],
     "output_type":"stream"
    }
   ],
   "metadata":{
    "datalore":{
     "type":"CODE",
     "hide_input_from_viewers":false,
     "hide_output_from_viewers":false
    }
   }
  },
  {
   "cell_type":"code",
   "source":[
    "pd.crosstab(df['group'], df['variants'])"
   ],
   "execution_count":6,
   "outputs":[
    {
     "data":{
      "text\/html":[
       "<div>\n",
       "<style scoped>\n",
       "    .dataframe tbody tr th:only-of-type {\n",
       "        vertical-align: middle;\n",
       "    }\n",
       "\n",
       "    .dataframe tbody tr th {\n",
       "        vertical-align: top;\n",
       "    }\n",
       "\n",
       "    .dataframe thead th {\n",
       "        text-align: right;\n",
       "    }\n",
       "<\/style>\n",
       "<table border=\"1\" class=\"dataframe\">\n",
       "  <thead>\n",
       "    <tr style=\"text-align: right;\">\n",
       "      <th>variants<\/th>\n",
       "      <th>standard<\/th>\n",
       "      <th>svm_ensemble_v_1_22<\/th>\n",
       "    <\/tr>\n",
       "    <tr>\n",
       "      <th>group<\/th>\n",
       "      <th><\/th>\n",
       "      <th><\/th>\n",
       "    <\/tr>\n",
       "  <\/thead>\n",
       "  <tbody>\n",
       "    <tr>\n",
       "      <th>control<\/th>\n",
       "      <td>145274<\/td>\n",
       "      <td>1928<\/td>\n",
       "    <\/tr>\n",
       "    <tr>\n",
       "      <th>treatment<\/th>\n",
       "      <td>1965<\/td>\n",
       "      <td>145311<\/td>\n",
       "    <\/tr>\n",
       "  <\/tbody>\n",
       "<\/table>\n",
       "<\/div>"
      ]
     },
     "metadata":{
      
     },
     "output_type":"display_data"
    }
   ],
   "metadata":{
    "datalore":{
     "type":"CODE",
     "hide_input_from_viewers":false,
     "hide_output_from_viewers":false
    }
   }
  },
  {
   "cell_type":"code",
   "source":[
    "sessions = df['user_id'].value_counts(ascending=False)\n",
    "duplicate_users = sessions[sessions > 1].count()\n",
    "if duplicate_users == 0:\n",
    "    print(\"Нет дублирующихся пользователей\")\n",
    "else:\n",
    "    print(\"Число дублирующихся пользователей: \" + str(duplicate_users))"
   ],
   "execution_count":11,
   "outputs":[
    {
     "name":"stdout",
     "text":[
      "Нет дублирующихся пользователей\n"
     ],
     "output_type":"stream"
    }
   ],
   "metadata":{
    "datalore":{
     "type":"CODE",
     "hide_input_from_viewers":false,
     "hide_output_from_viewers":false
    }
   }
  },
  {
   "cell_type":"markdown",
   "source":[
    "Вариант 1: исследование по всей выборке."
   ],
   "attachments":{
    
   },
   "metadata":{
    "datalore":{
     "type":"MD",
     "hide_input_from_viewers":false,
     "hide_output_from_viewers":false
    }
   }
  },
  {
   "cell_type":"code",
   "source":[
    "conversion_rates = df.groupby('group')['converted']\n",
    "std_proportion = lambda x: np.std(x, ddof=0)\n",
    "se_proportion = lambda x: stats.sem(x, ddof=0)\n",
    "conversion_rates = conversion_rates.agg([np.mean, std_proportion, se_proportion]).rename(columns={'mean':'CR mean', '<lambda_0>':'CR std', '<lambda_1>':'CR se'})\n",
    "conversion_rates"
   ],
   "execution_count":12,
   "outputs":[
    {
     "data":{
      "text\/html":[
       "<div>\n",
       "<style scoped>\n",
       "    .dataframe tbody tr th:only-of-type {\n",
       "        vertical-align: middle;\n",
       "    }\n",
       "\n",
       "    .dataframe tbody tr th {\n",
       "        vertical-align: top;\n",
       "    }\n",
       "\n",
       "    .dataframe thead th {\n",
       "        text-align: right;\n",
       "    }\n",
       "<\/style>\n",
       "<table border=\"1\" class=\"dataframe\">\n",
       "  <thead>\n",
       "    <tr style=\"text-align: right;\">\n",
       "      <th><\/th>\n",
       "      <th>CR mean<\/th>\n",
       "      <th>CR std<\/th>\n",
       "      <th>CR se<\/th>\n",
       "    <\/tr>\n",
       "    <tr>\n",
       "      <th>group<\/th>\n",
       "      <th><\/th>\n",
       "      <th><\/th>\n",
       "      <th><\/th>\n",
       "    <\/tr>\n",
       "  <\/thead>\n",
       "  <tbody>\n",
       "    <tr>\n",
       "      <th>control<\/th>\n",
       "      <td>0.120399<\/td>\n",
       "      <td>0.325428<\/td>\n",
       "      <td>0.000848<\/td>\n",
       "    <\/tr>\n",
       "    <tr>\n",
       "      <th>treatment<\/th>\n",
       "      <td>0.118920<\/td>\n",
       "      <td>0.323694<\/td>\n",
       "      <td>0.000843<\/td>\n",
       "    <\/tr>\n",
       "  <\/tbody>\n",
       "<\/table>\n",
       "<\/div>"
      ]
     },
     "metadata":{
      
     },
     "output_type":"display_data"
    }
   ],
   "metadata":{
    "datalore":{
     "type":"CODE",
     "hide_input_from_viewers":false,
     "hide_output_from_viewers":false
    }
   }
  },
  {
   "cell_type":"code",
   "source":[
    "control_results = df[df['group'] == 'control']['converted']\n",
    "treatment_results = df[df['group'] == 'treatment']['converted']\n",
    "\n",
    "n_con = control_results.count()\n",
    "n_treat = treatment_results.count()\n",
    "successes = [control_results.sum(), treatment_results.sum()]\n",
    "nobs = [n_con, n_treat]\n",
    "\n",
    "z_stat, pval = proportions_ztest(successes, nobs=nobs)\n",
    "(lower_con, lower_treat), (upper_con, upper_treat) = proportion_confint(successes, nobs=nobs, alpha=0.05)\n",
    "\n",
    "print(f'Z-statistic: {z_stat:.2f}')\n",
    "print(f'p-value: {pval:.3f}')\n",
    "print(f'CI 95% for control group: [{lower_con:.3f}, {upper_con:.3f}]')\n",
    "print(f'CI 95% for treatment group: [{lower_treat:.3f}, {upper_treat:.3f}]')"
   ],
   "execution_count":18,
   "outputs":[
    {
     "name":"stdout",
     "text":[
      "Z-statistic: 1.24\n",
      "p-value: 0.216\n",
      "CI 95% for control group: [0.119, 0.122]\n",
      "CI 95% for treatment group: [0.117, 0.121]\n"
     ],
     "output_type":"stream"
    }
   ],
   "metadata":{
    "datalore":{
     "type":"CODE",
     "hide_input_from_viewers":false,
     "hide_output_from_viewers":false
    }
   }
  },
  {
   "cell_type":"markdown",
   "source":[
    "Значение p-value больше уровня значимости, поэтому нулевая гипотеза не была опровергнута. Применять изменения не стоит."
   ],
   "attachments":{
    
   },
   "metadata":{
    "datalore":{
     "type":"MD",
     "hide_input_from_viewers":false,
     "hide_output_from_viewers":false
    }
   }
  },
  {
   "cell_type":"markdown",
   "source":[
    "Вариант 2: Исследование лишь по новым пользователям."
   ],
   "attachments":{
    
   },
   "metadata":{
    "datalore":{
     "type":"MD",
     "hide_input_from_viewers":false,
     "hide_output_from_viewers":false
    }
   }
  },
  {
   "cell_type":"code",
   "source":[
    "new_users = df[df['user_type'] == 'new_user']\n",
    "new_users.head(10)"
   ],
   "execution_count":22,
   "outputs":[
    {
     "data":{
      "text\/html":[
       "<div>\n",
       "<style scoped>\n",
       "    .dataframe tbody tr th:only-of-type {\n",
       "        vertical-align: middle;\n",
       "    }\n",
       "\n",
       "    .dataframe tbody tr th {\n",
       "        vertical-align: top;\n",
       "    }\n",
       "\n",
       "    .dataframe thead th {\n",
       "        text-align: right;\n",
       "    }\n",
       "<\/style>\n",
       "<table border=\"1\" class=\"dataframe\">\n",
       "  <thead>\n",
       "    <tr style=\"text-align: right;\">\n",
       "      <th><\/th>\n",
       "      <th>user_id<\/th>\n",
       "      <th>timestamp<\/th>\n",
       "      <th>group<\/th>\n",
       "      <th>variants<\/th>\n",
       "      <th>converted<\/th>\n",
       "      <th>location<\/th>\n",
       "      <th>age_group<\/th>\n",
       "      <th>user_type<\/th>\n",
       "    <\/tr>\n",
       "  <\/thead>\n",
       "  <tbody>\n",
       "    <tr>\n",
       "      <th>2<\/th>\n",
       "      <td>44788c4e-8dd2-4fad-b986-75e76f4adb64<\/td>\n",
       "      <td>2022-05-11 16:55:06.154213<\/td>\n",
       "      <td>treatment<\/td>\n",
       "      <td>svm_ensemble_v_1_22<\/td>\n",
       "      <td>0<\/td>\n",
       "      <td>United Kingdom<\/td>\n",
       "      <td>26-33<\/td>\n",
       "      <td>new_user<\/td>\n",
       "    <\/tr>\n",
       "    <tr>\n",
       "      <th>8<\/th>\n",
       "      <td>070f398e-e6bf-43e7-88bb-37eff2cb9212<\/td>\n",
       "      <td>2022-05-04 17:58:08.979471<\/td>\n",
       "      <td>treatment<\/td>\n",
       "      <td>svm_ensemble_v_1_22<\/td>\n",
       "      <td>1<\/td>\n",
       "      <td>United Kingdom<\/td>\n",
       "      <td>18-25<\/td>\n",
       "      <td>new_user<\/td>\n",
       "    <\/tr>\n",
       "    <tr>\n",
       "      <th>9<\/th>\n",
       "      <td>9cff0b7e-d42b-4508-9fbe-a4e74f7f29c5<\/td>\n",
       "      <td>2022-05-15 18:11:06.610965<\/td>\n",
       "      <td>treatment<\/td>\n",
       "      <td>svm_ensemble_v_1_22<\/td>\n",
       "      <td>1<\/td>\n",
       "      <td>United Kingdom<\/td>\n",
       "      <td>26-33<\/td>\n",
       "      <td>new_user<\/td>\n",
       "    <\/tr>\n",
       "    <tr>\n",
       "      <th>11<\/th>\n",
       "      <td>1cc7ebbb-efb9-43a6-9230-11161ae910ba<\/td>\n",
       "      <td>2022-05-21 22:37:47.774891<\/td>\n",
       "      <td>treatment<\/td>\n",
       "      <td>svm_ensemble_v_1_22<\/td>\n",
       "      <td>0<\/td>\n",
       "      <td>United Kingdom<\/td>\n",
       "      <td>58+<\/td>\n",
       "      <td>new_user<\/td>\n",
       "    <\/tr>\n",
       "    <tr>\n",
       "      <th>14<\/th>\n",
       "      <td>137d7bf0-309c-4aad-ad9e-302a2f45dc70<\/td>\n",
       "      <td>2022-05-22 11:45:11.327945<\/td>\n",
       "      <td>treatment<\/td>\n",
       "      <td>svm_ensemble_v_1_22<\/td>\n",
       "      <td>0<\/td>\n",
       "      <td>United Kingdom<\/td>\n",
       "      <td>50-57<\/td>\n",
       "      <td>new_user<\/td>\n",
       "    <\/tr>\n",
       "    <tr>\n",
       "      <th>17<\/th>\n",
       "      <td>c74dfdd0-2223-4ecf-bcfe-bf2fd923b0ef<\/td>\n",
       "      <td>2022-05-08 06:37:26.332945<\/td>\n",
       "      <td>treatment<\/td>\n",
       "      <td>svm_ensemble_v_1_22<\/td>\n",
       "      <td>1<\/td>\n",
       "      <td>United Kingdom<\/td>\n",
       "      <td>18-25<\/td>\n",
       "      <td>new_user<\/td>\n",
       "    <\/tr>\n",
       "    <tr>\n",
       "      <th>18<\/th>\n",
       "      <td>57c2fe74-e0be-44bc-823e-b38ff7daf399<\/td>\n",
       "      <td>2022-05-24 11:55:51.084801<\/td>\n",
       "      <td>control<\/td>\n",
       "      <td>standard<\/td>\n",
       "      <td>0<\/td>\n",
       "      <td>United Kingdom<\/td>\n",
       "      <td>58+<\/td>\n",
       "      <td>new_user<\/td>\n",
       "    <\/tr>\n",
       "    <tr>\n",
       "      <th>19<\/th>\n",
       "      <td>1f27a06c-4b31-4604-b4cb-46b7010e6e09<\/td>\n",
       "      <td>2022-05-17 20:33:37.428378<\/td>\n",
       "      <td>control<\/td>\n",
       "      <td>standard<\/td>\n",
       "      <td>0<\/td>\n",
       "      <td>United Kingdom<\/td>\n",
       "      <td>26-33<\/td>\n",
       "      <td>new_user<\/td>\n",
       "    <\/tr>\n",
       "    <tr>\n",
       "      <th>20<\/th>\n",
       "      <td>76b7b522-698f-4160-94a8-47d74737c5e8<\/td>\n",
       "      <td>2022-05-12 18:59:45.453277<\/td>\n",
       "      <td>treatment<\/td>\n",
       "      <td>svm_ensemble_v_1_22<\/td>\n",
       "      <td>0<\/td>\n",
       "      <td>United Kingdom<\/td>\n",
       "      <td>58+<\/td>\n",
       "      <td>new_user<\/td>\n",
       "    <\/tr>\n",
       "    <tr>\n",
       "      <th>22<\/th>\n",
       "      <td>74c0de1f-fe1d-46d8-8c46-e2111df72209<\/td>\n",
       "      <td>2022-05-12 22:58:14.991443<\/td>\n",
       "      <td>control<\/td>\n",
       "      <td>svm_ensemble_v_1_22<\/td>\n",
       "      <td>0<\/td>\n",
       "      <td>United Kingdom<\/td>\n",
       "      <td>18-25<\/td>\n",
       "      <td>new_user<\/td>\n",
       "    <\/tr>\n",
       "  <\/tbody>\n",
       "<\/table>\n",
       "<\/div>"
      ]
     },
     "metadata":{
      
     },
     "output_type":"display_data"
    }
   ],
   "metadata":{
    "datalore":{
     "type":"CODE",
     "hide_input_from_viewers":false,
     "hide_output_from_viewers":false
    }
   }
  },
  {
   "cell_type":"code",
   "source":[
    "conversion_rates = new_users.groupby('group')['converted']\n",
    "std_proportion = lambda x: np.std(x, ddof=0)\n",
    "se_proportion = lambda x: stats.sem(x, ddof=0)\n",
    "conversion_rates = conversion_rates.agg([np.mean, std_proportion, se_proportion]).rename(\n",
    "    columns={'mean':'CR mean', '<lambda_0>':'CR std', '<lambda_1>':'CR se'})\n",
    "conversion_rates"
   ],
   "execution_count":24,
   "outputs":[
    {
     "data":{
      "text\/html":[
       "<div>\n",
       "<style scoped>\n",
       "    .dataframe tbody tr th:only-of-type {\n",
       "        vertical-align: middle;\n",
       "    }\n",
       "\n",
       "    .dataframe tbody tr th {\n",
       "        vertical-align: top;\n",
       "    }\n",
       "\n",
       "    .dataframe thead th {\n",
       "        text-align: right;\n",
       "    }\n",
       "<\/style>\n",
       "<table border=\"1\" class=\"dataframe\">\n",
       "  <thead>\n",
       "    <tr style=\"text-align: right;\">\n",
       "      <th><\/th>\n",
       "      <th>CR mean<\/th>\n",
       "      <th>CR std<\/th>\n",
       "      <th>CR se<\/th>\n",
       "    <\/tr>\n",
       "    <tr>\n",
       "      <th>group<\/th>\n",
       "      <th><\/th>\n",
       "      <th><\/th>\n",
       "      <th><\/th>\n",
       "    <\/tr>\n",
       "  <\/thead>\n",
       "  <tbody>\n",
       "    <tr>\n",
       "      <th>control<\/th>\n",
       "      <td>0.120746<\/td>\n",
       "      <td>0.325832<\/td>\n",
       "      <td>0.001200<\/td>\n",
       "    <\/tr>\n",
       "    <tr>\n",
       "      <th>treatment<\/th>\n",
       "      <td>0.117557<\/td>\n",
       "      <td>0.322082<\/td>\n",
       "      <td>0.001188<\/td>\n",
       "    <\/tr>\n",
       "  <\/tbody>\n",
       "<\/table>\n",
       "<\/div>"
      ]
     },
     "metadata":{
      
     },
     "output_type":"display_data"
    }
   ],
   "metadata":{
    "datalore":{
     "type":"CODE",
     "hide_input_from_viewers":false,
     "hide_output_from_viewers":false
    }
   }
  },
  {
   "cell_type":"code",
   "source":[
    "control_results = new_users[new_users['group'] == 'control']['converted']\n",
    "treatment_results = new_users[new_users['group'] == 'treatment']['converted']\n",
    "\n",
    "n_con = control_results.count()\n",
    "n_treat = treatment_results.count()\n",
    "successes = [control_results.sum(), treatment_results.sum()]\n",
    "nobs = [n_con, n_treat]\n",
    "\n",
    "z_stat, pval = proportions_ztest(successes, nobs=nobs)\n",
    "(lower_con, lower_treat), (upper_con, upper_treat) = proportion_confint(successes, nobs=nobs, alpha=0.05)\n",
    "\n",
    "print(f'Z-statistic: {z_stat:.2f}')\n",
    "print(f'p-value: {pval:.3f}')\n",
    "print(f'CI 95% for control group: [{lower_con:.3f}, {upper_con:.3f}]')\n",
    "print(f'CI 95% for treatment group: [{lower_treat:.3f}, {upper_treat:.3f}]')"
   ],
   "execution_count":28,
   "outputs":[
    {
     "name":"stdout",
     "text":[
      "Z-statistic: 1.89\n",
      "p-value: 0.059\n",
      "CI 95% for control group: [0.118, 0.123]\n",
      "CI 95% for treatment group: [0.115, 0.120]\n"
     ],
     "output_type":"stream"
    }
   ],
   "metadata":{
    "datalore":{
     "type":"CODE",
     "hide_input_from_viewers":false,
     "hide_output_from_viewers":false
    }
   }
  },
  {
   "cell_type":"markdown",
   "source":[
    "Значение p-value близко к необходимому для принятия изменений, но всё же больше 0.05, и конверсия увеличилась незначительно, поэтому новый вариант применять все же не стоит. Однако можно сделать вывод, что новые пользователи охотнее принимают вводимые изменения."
   ],
   "attachments":{
    
   },
   "metadata":{
    "datalore":{
     "type":"MD",
     "hide_input_from_viewers":false,
     "hide_output_from_viewers":false
    }
   }
  },
  {
   "cell_type":"markdown",
   "source":[
    "Вариант 3: исследование лишь по старым пользователям"
   ],
   "attachments":{
    
   },
   "metadata":{
    "datalore":{
     "type":"MD",
     "hide_input_from_viewers":false,
     "hide_output_from_viewers":false
    }
   }
  },
  {
   "cell_type":"code",
   "source":[
    "old_users = df[df['user_type'] == 'registered_user']\n",
    "old_users.head(10)"
   ],
   "execution_count":30,
   "outputs":[
    {
     "data":{
      "text\/html":[
       "<div>\n",
       "<style scoped>\n",
       "    .dataframe tbody tr th:only-of-type {\n",
       "        vertical-align: middle;\n",
       "    }\n",
       "\n",
       "    .dataframe tbody tr th {\n",
       "        vertical-align: top;\n",
       "    }\n",
       "\n",
       "    .dataframe thead th {\n",
       "        text-align: right;\n",
       "    }\n",
       "<\/style>\n",
       "<table border=\"1\" class=\"dataframe\">\n",
       "  <thead>\n",
       "    <tr style=\"text-align: right;\">\n",
       "      <th><\/th>\n",
       "      <th>user_id<\/th>\n",
       "      <th>timestamp<\/th>\n",
       "      <th>group<\/th>\n",
       "      <th>variants<\/th>\n",
       "      <th>converted<\/th>\n",
       "      <th>location<\/th>\n",
       "      <th>age_group<\/th>\n",
       "      <th>user_type<\/th>\n",
       "    <\/tr>\n",
       "  <\/thead>\n",
       "  <tbody>\n",
       "    <tr>\n",
       "      <th>0<\/th>\n",
       "      <td>9109b0dc-d393-497f-8d63-ba9a25dd16b4<\/td>\n",
       "      <td>2022-05-21 22:11:48.556739<\/td>\n",
       "      <td>control<\/td>\n",
       "      <td>standard<\/td>\n",
       "      <td>0<\/td>\n",
       "      <td>United Kingdom<\/td>\n",
       "      <td>18-25<\/td>\n",
       "      <td>registered_user<\/td>\n",
       "    <\/tr>\n",
       "    <tr>\n",
       "      <th>1<\/th>\n",
       "      <td>2430c3d2-f75b-4b31-8271-51b6a76c2652<\/td>\n",
       "      <td>2022-05-12 08:01:45.159739<\/td>\n",
       "      <td>control<\/td>\n",
       "      <td>standard<\/td>\n",
       "      <td>0<\/td>\n",
       "      <td>United Kingdom<\/td>\n",
       "      <td>42-49<\/td>\n",
       "      <td>registered_user<\/td>\n",
       "    <\/tr>\n",
       "    <tr>\n",
       "      <th>3<\/th>\n",
       "      <td>4699a417-506d-41b8-a354-6af6ad576963<\/td>\n",
       "      <td>2022-05-08 18:28:03.143765<\/td>\n",
       "      <td>treatment<\/td>\n",
       "      <td>svm_ensemble_v_1_22<\/td>\n",
       "      <td>0<\/td>\n",
       "      <td>United Kingdom<\/td>\n",
       "      <td>42-49<\/td>\n",
       "      <td>registered_user<\/td>\n",
       "    <\/tr>\n",
       "    <tr>\n",
       "      <th>4<\/th>\n",
       "      <td>304b0d28-bcdf-401a-9dff-66230d3ba0bc<\/td>\n",
       "      <td>2022-05-21 01:52:26.210827<\/td>\n",
       "      <td>control<\/td>\n",
       "      <td>standard<\/td>\n",
       "      <td>1<\/td>\n",
       "      <td>United Kingdom<\/td>\n",
       "      <td>42-49<\/td>\n",
       "      <td>registered_user<\/td>\n",
       "    <\/tr>\n",
       "    <tr>\n",
       "      <th>5<\/th>\n",
       "      <td>426f77eb-8739-43b6-999c-aecd14d9f346<\/td>\n",
       "      <td>2022-05-10 15:20:49.083499<\/td>\n",
       "      <td>control<\/td>\n",
       "      <td>standard<\/td>\n",
       "      <td>0<\/td>\n",
       "      <td>United Kingdom<\/td>\n",
       "      <td>42-49<\/td>\n",
       "      <td>registered_user<\/td>\n",
       "    <\/tr>\n",
       "    <tr>\n",
       "      <th>6<\/th>\n",
       "      <td>aa9d93c5-a18f-444a-a522-7e7145835362<\/td>\n",
       "      <td>2022-05-19 03:26:46.940749<\/td>\n",
       "      <td>treatment<\/td>\n",
       "      <td>svm_ensemble_v_1_22<\/td>\n",
       "      <td>1<\/td>\n",
       "      <td>United Kingdom<\/td>\n",
       "      <td>26-33<\/td>\n",
       "      <td>registered_user<\/td>\n",
       "    <\/tr>\n",
       "    <tr>\n",
       "      <th>7<\/th>\n",
       "      <td>de214e30-9b8d-44cf-87b1-16917f3e1c89<\/td>\n",
       "      <td>2022-05-17 01:48:29.539573<\/td>\n",
       "      <td>control<\/td>\n",
       "      <td>standard<\/td>\n",
       "      <td>0<\/td>\n",
       "      <td>United Kingdom<\/td>\n",
       "      <td>18-25<\/td>\n",
       "      <td>registered_user<\/td>\n",
       "    <\/tr>\n",
       "    <tr>\n",
       "      <th>10<\/th>\n",
       "      <td>63a587c3-d1b6-4e3f-a2de-171462b19476<\/td>\n",
       "      <td>2022-05-18 05:37:11.527370<\/td>\n",
       "      <td>treatment<\/td>\n",
       "      <td>svm_ensemble_v_1_22<\/td>\n",
       "      <td>0<\/td>\n",
       "      <td>United Kingdom<\/td>\n",
       "      <td>58+<\/td>\n",
       "      <td>registered_user<\/td>\n",
       "    <\/tr>\n",
       "    <tr>\n",
       "      <th>12<\/th>\n",
       "      <td>4ae7128c-0c34-4bf4-a270-011dd78aed63<\/td>\n",
       "      <td>2022-05-09 06:05:16.222706<\/td>\n",
       "      <td>treatment<\/td>\n",
       "      <td>svm_ensemble_v_1_22<\/td>\n",
       "      <td>0<\/td>\n",
       "      <td>United Kingdom<\/td>\n",
       "      <td>34-41<\/td>\n",
       "      <td>registered_user<\/td>\n",
       "    <\/tr>\n",
       "    <tr>\n",
       "      <th>13<\/th>\n",
       "      <td>8d3953a4-f641-4816-971a-cb28c49ebbe1<\/td>\n",
       "      <td>2022-05-22 01:31:09.573836<\/td>\n",
       "      <td>treatment<\/td>\n",
       "      <td>svm_ensemble_v_1_22<\/td>\n",
       "      <td>0<\/td>\n",
       "      <td>United Kingdom<\/td>\n",
       "      <td>26-33<\/td>\n",
       "      <td>registered_user<\/td>\n",
       "    <\/tr>\n",
       "  <\/tbody>\n",
       "<\/table>\n",
       "<\/div>"
      ]
     },
     "metadata":{
      
     },
     "output_type":"display_data"
    }
   ],
   "metadata":{
    "datalore":{
     "type":"CODE",
     "hide_input_from_viewers":false,
     "hide_output_from_viewers":false
    }
   }
  },
  {
   "cell_type":"code",
   "source":[
    "conversion_rates = old_users.groupby('group')['converted']\n",
    "std_proportion = lambda x: np.std(x, ddof=0)\n",
    "se_proportion = lambda x: stats.sem(x, ddof=0)\n",
    "conversion_rates = conversion_rates.agg([np.mean, std_proportion, se_proportion]).rename(\n",
    "    columns={'mean':'CR mean', '<lambda_0>':'CR std', '<lambda_1>':'CR se'})\n",
    "conversion_rates"
   ],
   "execution_count":31,
   "outputs":[
    {
     "data":{
      "text\/html":[
       "<div>\n",
       "<style scoped>\n",
       "    .dataframe tbody tr th:only-of-type {\n",
       "        vertical-align: middle;\n",
       "    }\n",
       "\n",
       "    .dataframe tbody tr th {\n",
       "        vertical-align: top;\n",
       "    }\n",
       "\n",
       "    .dataframe thead th {\n",
       "        text-align: right;\n",
       "    }\n",
       "<\/style>\n",
       "<table border=\"1\" class=\"dataframe\">\n",
       "  <thead>\n",
       "    <tr style=\"text-align: right;\">\n",
       "      <th><\/th>\n",
       "      <th>CR mean<\/th>\n",
       "      <th>CR std<\/th>\n",
       "      <th>CR se<\/th>\n",
       "    <\/tr>\n",
       "    <tr>\n",
       "      <th>group<\/th>\n",
       "      <th><\/th>\n",
       "      <th><\/th>\n",
       "      <th><\/th>\n",
       "    <\/tr>\n",
       "  <\/thead>\n",
       "  <tbody>\n",
       "    <tr>\n",
       "      <th>control<\/th>\n",
       "      <td>0.120051<\/td>\n",
       "      <td>0.325021<\/td>\n",
       "      <td>0.001199<\/td>\n",
       "    <\/tr>\n",
       "    <tr>\n",
       "      <th>treatment<\/th>\n",
       "      <td>0.120277<\/td>\n",
       "      <td>0.325285<\/td>\n",
       "      <td>0.001197<\/td>\n",
       "    <\/tr>\n",
       "  <\/tbody>\n",
       "<\/table>\n",
       "<\/div>"
      ]
     },
     "metadata":{
      
     },
     "output_type":"display_data"
    }
   ],
   "metadata":{
    "datalore":{
     "type":"CODE",
     "hide_input_from_viewers":false,
     "hide_output_from_viewers":false
    }
   }
  },
  {
   "cell_type":"code",
   "source":[
    "control_results = old_users[old_users['group'] == 'control']['converted']\n",
    "treatment_results = old_users[old_users['group'] == 'treatment']['converted']\n",
    "\n",
    "n_con = control_results.count()\n",
    "n_treat = treatment_results.count()\n",
    "successes = [control_results.sum(), treatment_results.sum()]\n",
    "nobs = [n_con, n_treat]\n",
    "\n",
    "z_stat, pval = proportions_ztest(successes, nobs=nobs)\n",
    "(lower_con, lower_treat), (upper_con, upper_treat) = proportion_confint(successes, nobs=nobs, alpha=0.05)\n",
    "\n",
    "print(f'Z-statistic: {z_stat:.2f}')\n",
    "print(f'p-value: {pval:.3f}')\n",
    "print(f'CI 95% for control group: [{lower_con:.3f}, {upper_con:.3f}]')\n",
    "print(f'CI 95% for treatment group: [{lower_treat:.3f}, {upper_treat:.3f}]')"
   ],
   "execution_count":32,
   "outputs":[
    {
     "name":"stdout",
     "text":[
      "Z-statistic: -0.13\n",
      "p-value: 0.894\n",
      "CI 95% for control group: [0.118, 0.122]\n",
      "CI 95% for treatment group: [0.118, 0.123]\n"
     ],
     "output_type":"stream"
    }
   ],
   "metadata":{
    "datalore":{
     "type":"CODE",
     "hide_input_from_viewers":false,
     "hide_output_from_viewers":false
    }
   }
  },
  {
   "cell_type":"markdown",
   "source":[
    "p-value существенно больше уровня значимости, а конверсия не изменилась, у старых пользователей не нужно ничего изменять."
   ],
   "attachments":{
    
   },
   "metadata":{
    "datalore":{
     "type":"MD",
     "hide_input_from_viewers":false,
     "hide_output_from_viewers":false
    }
   }
  }
 ],
 "metadata":{
  "datalore":{
   "version":1,
   "computation_mode":"JUPYTER",
   "package_manager":"pip",
   "base_environment":"default",
   "packages":[
    
   ]
  }
 },
 "nbformat":4,
 "nbformat_minor":4
}